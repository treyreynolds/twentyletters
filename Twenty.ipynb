{
  "cells": [
    {
      "cell_type": "markdown",
      "source": [
        "# Solver for TwentyLetters.com\n",
        "by Trey Reynolds 02/22/22\n",
        "\n",
        "Steps:\n",
        "\n",
        "1. Download the Scrabble dictionary from some random github repo.\n",
        "2. Pre-compute a sorted word data structure.\n",
        "  * Pre-sorting the dictionary only happens once.\n",
        "  * This gives a 2x-5x speed increase in the worst case search.\n",
        "3. Compute the full list of all possible words sorted by score.\n",
        "4. Recursively do the same procedure with remaining letters until either:\n",
        "  * There are no remaining letters.\n",
        "  * No words are found with the remaining letters.\n",
        "5. If the recursion base case is met back up and try the next \"final word\".\n",
        "  * There is a specified search depth of words per \"level\".\n",
        "  * The default depth is 30 words.\n",
        "6. Keep doing this until you run out of words, print only the best results.\n",
        "\n"
      ],
      "metadata": {
        "id": "a1Yin4yORHZH"
      }
    },
    {
      "cell_type": "code",
      "execution_count": 22,
      "outputs": [],
      "source": [
        "from bisect import bisect_left\n",
        "from itertools import combinations, product\n",
        "import requests"
      ],
      "metadata": {
        "pycharm": {
          "name": "#%%\n"
        },
        "id": "Ao52l2nyW1ka"
      }
    },
    {
      "cell_type": "code",
      "source": [
        "# Game Definitions\n",
        "scores = {\n",
        "  \"a\": 1,\"b\": 3,\"c\": 3,\"d\": 2,\"e\": 1,\"f\": 4,\"g\": 2,\"h\": 4,\"i\": 1,\"j\": 8,\"k\": 5,\n",
        "  \"l\": 1,\"m\": 3,\"n\": 1,\"o\": 1,\"p\": 3,\"q\": 10,\"r\": 1,\"s\": 1,\"t\": 1,\"u\": 1,\"v\": 4,\n",
        "  \"w\": 4,\"x\": 8,\"y\": 4,\"z\": 10\n",
        "}\n",
        "minimum_word_length = 3"
      ],
      "metadata": {
        "id": "pzSOCK-fWzhg"
      },
      "execution_count": null,
      "outputs": []
    },
    {
      "cell_type": "markdown",
      "source": [
        "1. Download the Scrabble dictionary from some random github repo."
      ],
      "metadata": {
        "id": "oUhgk2AFWNKl"
      }
    },
    {
      "cell_type": "code",
      "source": [
        "url = \"https://raw.githubusercontent.com/zeisler/scrabble/master/db/dictionary.csv\"\n",
        "r = requests.get(url)\n",
        "f = open('scrabble_dictionary.txt','w')\n",
        "f.write(r.text)"
      ],
      "metadata": {
        "colab": {
          "base_uri": "https://localhost:8080/"
        },
        "id": "30HisFXMrTma",
        "outputId": "1fa9a7ee-1641-4842-f4a3-8df58949e0b3"
      },
      "execution_count": 23,
      "outputs": [
        {
          "output_type": "execute_result",
          "data": {
            "text/plain": [
              "1916146"
            ]
          },
          "metadata": {},
          "execution_count": 23
        }
      ]
    },
    {
      "cell_type": "markdown",
      "source": [
        "Pre-compute a sorted word data structure.\n",
        "  * Pre-sorting the dictionary only happens once.\n",
        "  * This gives a 2x-5x speed increase in the worst case search."
      ],
      "metadata": {
        "id": "7UnuxV4JWTWH"
      }
    },
    {
      "cell_type": "code",
      "execution_count": 32,
      "outputs": [],
      "source": [
        "# Writing the dictionary out as all possible sorted anagrams speeds up search 5-10x\n",
        "f = open('scrabble_dictionary.txt')\n",
        "d = {}\n",
        "\n",
        "for word in f:\n",
        "  if len(word) >= minimum_word_length:\n",
        "    word = word.strip()\n",
        "    key = ''.join(sorted(word))\n",
        "    if key in d:\n",
        "      d[key].append(word)\n",
        "    else:\n",
        "      d[key] = [word]\n",
        "\n",
        "f.close()\n",
        "anagram_dictionary = [' '.join([key]+value) for key, value in d.items()]\n",
        "anagram_dictionary.sort()\n",
        "f = open('anagram_dictionary.txt','w')\n",
        "f.write('\\n'.join(anagram_dictionary))\n",
        "f.close()"
      ],
      "metadata": {
        "pycharm": {
          "name": "#%%\n"
        },
        "id": "HJvJIJQZW1kc"
      }
    },
    {
      "cell_type": "code",
      "execution_count": 26,
      "outputs": [],
      "source": [
        "# Note the difference from scabble -- word length is a multiplier\n",
        "def score_word(word):\n",
        "  return sum([scores[c] for c in word]) * len(word)"
      ],
      "metadata": {
        "pycharm": {
          "name": "#%%\n"
        },
        "id": "DWC0UpWsW1ke"
      }
    },
    {
      "cell_type": "code",
      "execution_count": 27,
      "outputs": [],
      "source": [
        "# Load this so we don't have to do it every round\n",
        "def load_anagram_dictionary():\n",
        "  f = open('anagram_dictionary.txt','r')\n",
        "  anagram_dictionary = f.read().split('\\n')\n",
        "  f.close()\n",
        "  return anagram_dictionary"
      ],
      "metadata": {
        "pycharm": {
          "name": "#%%\n"
        },
        "id": "raDHnzJkW1ke"
      }
    },
    {
      "cell_type": "code",
      "execution_count": 28,
      "outputs": [],
      "source": [
        "def findwords(letters, anagram_dictionary):\n",
        "  letters = ''.join(sorted(letters))\n",
        "  foundwords = []\n",
        "  for i in range(2,len(letters)+1):\n",
        "    for comb in combinations(letters,i):\n",
        "      ana = ''.join(comb)\n",
        "      j = bisect_left(anagram_dictionary, ana)\n",
        "      if j == len(anagram_dictionary):\n",
        "        continue\n",
        "      words = anagram_dictionary[j].split()\n",
        "      if words[0] == ana:\n",
        "        foundwords.extend(words[1:])\n",
        "  return foundwords"
      ],
      "metadata": {
        "pycharm": {
          "name": "#%%\n"
        },
        "id": "aJDNn4enW1kf"
      }
    },
    {
      "cell_type": "code",
      "execution_count": 29,
      "outputs": [],
      "source": [
        "def remove_letters(remaining, word):\n",
        "  new_remaining = remaining\n",
        "  for character in word:\n",
        "    new_remaining = new_remaining.replace(character, \"\", 1)\n",
        "  return new_remaining"
      ],
      "metadata": {
        "pycharm": {
          "name": "#%%\n"
        },
        "id": "O0t2EWjbW1kg"
      }
    },
    {
      "cell_type": "markdown",
      "source": [
        "Compute the full list of all possible words sorted by score.\n",
        "Recursively do the same procedure with remaining letters until either:\n",
        "  * There are no remaining letters.\n",
        "  * No words are found with the remaining letters."
      ],
      "metadata": {
        "id": "fXvbNrDJWZYN"
      }
    },
    {
      "cell_type": "code",
      "execution_count": 30,
      "outputs": [],
      "source": [
        "# Cache for found words so we don't have to compute every time\n",
        "found = {}\n",
        "\n",
        "# Recursive function to search for the possible word combos from the indices passed\n",
        "def find_combo(remaining, words, level, indices):\n",
        "  if remaining == \"\":\n",
        "    return words\n",
        "\n",
        "  remaining = remove_letters(remaining, \"\".join(words))\n",
        "  if not remaining in found:\n",
        "    found[remaining] = sorted(set(findwords(remaining, anagram_dictionary)), key=lambda w: score_word(w), reverse=True)\n",
        "\n",
        "  if len(found[remaining]) == 0:\n",
        "    return words\n",
        "\n",
        "  if indices[level] >= len(found[remaining]):\n",
        "    return words\n",
        "\n",
        "  words += [found[remaining][indices[level]]]\n",
        "\n",
        "  return find_combo(remaining, words, level + 1, indices)"
      ],
      "metadata": {
        "pycharm": {
          "name": "#%%\n"
        },
        "id": "JcaPHJM8W1kg"
      }
    },
    {
      "cell_type": "markdown",
      "source": [
        "5. If the recursion base case is met back up and try the next \"final word\".\n",
        "  * There is a specified search depth of words per \"level\".\n",
        "  * The default depth is 30 words.  \n",
        "6. Keep doing this until you run out of words, print only the best results."
      ],
      "metadata": {
        "id": "1h6-pnZNWizr"
      }
    },
    {
      "cell_type": "code",
      "execution_count": 31,
      "outputs": [
        {
          "output_type": "stream",
          "name": "stdout",
          "text": [
            "241 - gullibility attain hao\n",
            "290 - habitually litigation\n"
          ]
        }
      ],
      "source": [
        "board = \"aaabghiiiilllnotttuy\"\n",
        "anagram_dictionary = load_anagram_dictionary()\n",
        "search_depth = 40\n",
        "best_score = 0\n",
        "\n",
        "for w1, w2, w3, w4 in product(range(search_depth), repeat=4):\n",
        "   result_words = find_combo(board, [], 0, [w1,w2,w3,w4,0,0])\n",
        "   result_string = \"\".join(result_words)\n",
        "   result_score = sum(score_word(r) for r in result_words)\n",
        "   if len(result_string) == len(board) and best_score < result_score:\n",
        "     best_score = result_score\n",
        "     print(str(result_score) + \" - \" + \" \".join(result_words))"
      ],
      "metadata": {
        "pycharm": {
          "name": "#%%\n"
        },
        "colab": {
          "base_uri": "https://localhost:8080/"
        },
        "id": "eOZu20eVW1kh",
        "outputId": "bf51fda7-f04e-4de0-ccf7-b2e9a20a82d0"
      }
    }
  ],
  "metadata": {
    "kernelspec": {
      "display_name": "Python 3",
      "language": "python",
      "name": "python3"
    },
    "language_info": {
      "codemirror_mode": {
        "name": "ipython",
        "version": 2
      },
      "file_extension": ".py",
      "mimetype": "text/x-python",
      "name": "python",
      "nbconvert_exporter": "python",
      "pygments_lexer": "ipython2",
      "version": "2.7.6"
    },
    "colab": {
      "name": "Twenty.ipynb",
      "provenance": [],
      "collapsed_sections": []
    }
  },
  "nbformat": 4,
  "nbformat_minor": 0
}